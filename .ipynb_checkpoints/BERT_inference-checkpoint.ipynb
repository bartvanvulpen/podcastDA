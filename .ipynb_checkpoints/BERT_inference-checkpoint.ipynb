{
 "cells": [
  {
   "cell_type": "code",
   "execution_count": null,
   "metadata": {},
   "outputs": [],
   "source": [
    "from transformers import DistilBertForSequenceClassification,DistilBertTokenizer\n",
    "import pandas as pd\n",
    "import numpy as np\n",
    "from torch.utils.data import Dataset, TensorDataset,DataLoader\n",
    "from sklearn.model_selection import train_test_split\n",
    "import torch\n",
    "from helper_functions import get_paths_for_en_episodes\n",
    "from helper_functions import dialogue_json_to_pandas\n",
    "from tqdm import tqdm"
   ]
  },
  {
   "cell_type": "code",
   "execution_count": null,
   "metadata": {},
   "outputs": [],
   "source": [
    "device = torch.device('cpu')"
   ]
  },
  {
   "cell_type": "code",
   "execution_count": null,
   "metadata": {},
   "outputs": [],
   "source": [
    "# Load DistilBert Classification model from transformer library\n",
    "model = DistilBertForSequenceClassification.from_pretrained('distilbert-base-uncased',num_labels=1).to(device=device)\n",
    "tokenizer = DistilBertTokenizer.from_pretrained('distilbert-base-uncased')\n",
    "\n",
    "# Load saved best BERT model op CPU (model was trained on GPU in Colab)\n",
    "model.load_state_dict(torch.load('DistilBERT_best_model.pt', map_location=device))\n",
    "model.eval()"
   ]
  },
  {
   "cell_type": "code",
   "execution_count": null,
   "metadata": {},
   "outputs": [],
   "source": [
    "# tokenize utterances in dialogue\n",
    "tokenized_utterances = inference_dialogue.text.apply(lambda x: tokenizer.encode(x,add_special_tokens=True))"
   ]
  },
  {
   "cell_type": "code",
   "execution_count": null,
   "metadata": {},
   "outputs": [],
   "source": [
    "# pad sentences for inference\n",
    "max_len = max(map(len,tokenized_utterances))\n",
    "padded_utterances = np.array([ i+[0]*(max_len-len(i))  for i in tokenized_utterances])\n",
    "attention_masked_utterances = np.where(padded_utterances != 0,1,0)"
   ]
  },
  {
   "cell_type": "code",
   "execution_count": null,
   "metadata": {},
   "outputs": [],
   "source": [
    "# Convert dialogue into tensors and dataset\n",
    "X_inference = torch.tensor(padded_utterances)\n",
    "X_inference_attention = torch.tensor(attention_masked_utterances)\n",
    "\n",
    "inference_dataset = TensorDataset(X_inference, X_inference_attention)\n",
    "inference_loader = DataLoader(inference_dataset, batch_size=2, shuffle=False)"
   ]
  },
  {
   "cell_type": "code",
   "execution_count": null,
   "metadata": {},
   "outputs": [],
   "source": [
    " def sigmoid(x):\n",
    "    return 1 / (1 + np.exp(-x)) "
   ]
  },
  {
   "cell_type": "code",
   "execution_count": null,
   "metadata": {},
   "outputs": [],
   "source": [
    "preds = np.zeros([len(inference_dataset), 1])\n",
    "for i, (x_batch, x_mask) in enumerate(inference_loader):\n",
    "    print(i)\n",
    "    outputs = model(x_batch.to(device),attention_mask=x_mask.to(device))\n",
    "\n",
    "    y_pred = sigmoid(outputs[0].detach().cpu().numpy())\n",
    "\n",
    "    preds[i*2:(i+1)*2, :] = y_pred\n",
    "\n",
    "\n",
    "pred_labels = []\n",
    "for p in preds:\n",
    "    if p > 0.5:\n",
    "        pred_labels.append(1)\n",
    "    else:\n",
    "        pred_labels.append(0)\n",
    "        \n",
    "print(pred_labels)"
   ]
  },
  {
   "cell_type": "code",
   "execution_count": null,
   "metadata": {},
   "outputs": [],
   "source": []
  }
 ],
 "metadata": {
  "kernelspec": {
   "display_name": "Python 3",
   "language": "python",
   "name": "python3"
  },
  "language_info": {
   "codemirror_mode": {
    "name": "ipython",
    "version": 3
   },
   "file_extension": ".py",
   "mimetype": "text/x-python",
   "name": "python",
   "nbconvert_exporter": "python",
   "pygments_lexer": "ipython3",
   "version": "3.7.7"
  }
 },
 "nbformat": 4,
 "nbformat_minor": 2
}
