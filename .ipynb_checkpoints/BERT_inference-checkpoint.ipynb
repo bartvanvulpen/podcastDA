{
 "cells": [
  {
   "cell_type": "code",
   "execution_count": 25,
   "metadata": {},
   "outputs": [
    {
     "name": "stdout",
     "output_type": "stream",
     "text": [
      "Traceback (most recent call last):\r\n",
      "  File \"/usr/local/bin/pip\", line 5, in <module>\r\n",
      "    from pkg_resources import load_entry_point\r\n",
      "  File \"/System/Library/Frameworks/Python.framework/Versions/2.7/Extras/lib/python/pkg_resources/__init__.py\", line 3241, in <module>\r\n",
      "    @_call_aside\r\n",
      "  File \"/System/Library/Frameworks/Python.framework/Versions/2.7/Extras/lib/python/pkg_resources/__init__.py\", line 3225, in _call_aside\r\n",
      "    f(*args, **kwargs)\r\n",
      "  File \"/System/Library/Frameworks/Python.framework/Versions/2.7/Extras/lib/python/pkg_resources/__init__.py\", line 3254, in _initialize_master_working_set\r\n",
      "    working_set = WorkingSet._build_master()\r\n",
      "  File \"/System/Library/Frameworks/Python.framework/Versions/2.7/Extras/lib/python/pkg_resources/__init__.py\", line 583, in _build_master\r\n",
      "    ws.require(__requires__)\r\n",
      "  File \"/System/Library/Frameworks/Python.framework/Versions/2.7/Extras/lib/python/pkg_resources/__init__.py\", line 900, in require\r\n",
      "    needed = self.resolve(parse_requirements(requirements))\r\n",
      "  File \"/System/Library/Frameworks/Python.framework/Versions/2.7/Extras/lib/python/pkg_resources/__init__.py\", line 786, in resolve\r\n",
      "    raise DistributionNotFound(req, requirers)\r\n",
      "pkg_resources.DistributionNotFound: The 'pip==19.0.2' distribution was not found and is required by the application\r\n"
     ]
    },
    {
     "data": {
      "text/plain": [
       "'1.4.0'"
      ]
     },
     "execution_count": 25,
     "metadata": {},
     "output_type": "execute_result"
    }
   ],
   "source": [
    "!pip install torch==1.7.1\n",
    "from transformers import DistilBertForSequenceClassification,DistilBertTokenizer\n",
    "import pandas as pd\n",
    "import numpy as np\n",
    "from torch.utils.data import Dataset, TensorDataset,DataLoader\n",
    "from sklearn.model_selection import train_test_split\n",
    "import torch\n",
    "torch.__version__"
   ]
  },
  {
   "cell_type": "code",
   "execution_count": 16,
   "metadata": {},
   "outputs": [
    {
     "name": "stderr",
     "output_type": "stream",
     "text": [
      "I0307 15:48:14.591541 4548054528 configuration_utils.py:256] loading configuration file https://s3.amazonaws.com/models.huggingface.co/bert/distilbert-base-uncased-config.json from cache at /Users/Bart/.cache/torch/transformers/a41e817d5c0743e29e86ff85edc8c257e61bc8d88e4271bb1b243b6e7614c633.8949e27aafafa845a18d98a0e3a88bc2d248bbc32a1b75947366664658f23b1c\n",
      "I0307 15:48:14.592518 4548054528 configuration_utils.py:292] Model config DistilBertConfig {\n",
      "  \"activation\": \"gelu\",\n",
      "  \"architectures\": [\n",
      "    \"DistilBertForMaskedLM\"\n",
      "  ],\n",
      "  \"attention_dropout\": 0.1,\n",
      "  \"bos_token_id\": null,\n",
      "  \"dim\": 768,\n",
      "  \"do_sample\": false,\n",
      "  \"dropout\": 0.1,\n",
      "  \"eos_token_ids\": null,\n",
      "  \"finetuning_task\": null,\n",
      "  \"hidden_dim\": 3072,\n",
      "  \"id2label\": {\n",
      "    \"0\": \"LABEL_0\",\n",
      "    \"1\": \"LABEL_1\"\n",
      "  },\n",
      "  \"initializer_range\": 0.02,\n",
      "  \"is_decoder\": false,\n",
      "  \"label2id\": {\n",
      "    \"LABEL_0\": 0,\n",
      "    \"LABEL_1\": 1\n",
      "  },\n",
      "  \"length_penalty\": 1.0,\n",
      "  \"max_length\": 20,\n",
      "  \"max_position_embeddings\": 512,\n",
      "  \"model_type\": \"distilbert\",\n",
      "  \"n_heads\": 12,\n",
      "  \"n_layers\": 6,\n",
      "  \"num_beams\": 1,\n",
      "  \"num_labels\": 1,\n",
      "  \"num_return_sequences\": 1,\n",
      "  \"output_attentions\": false,\n",
      "  \"output_hidden_states\": false,\n",
      "  \"output_past\": true,\n",
      "  \"pad_token_id\": 0,\n",
      "  \"pruned_heads\": {},\n",
      "  \"qa_dropout\": 0.1,\n",
      "  \"repetition_penalty\": 1.0,\n",
      "  \"seq_classif_dropout\": 0.2,\n",
      "  \"sinusoidal_pos_embds\": false,\n",
      "  \"temperature\": 1.0,\n",
      "  \"tie_weights_\": true,\n",
      "  \"top_k\": 50,\n",
      "  \"top_p\": 1.0,\n",
      "  \"torchscript\": false,\n",
      "  \"use_bfloat16\": false,\n",
      "  \"vocab_size\": 30522\n",
      "}\n",
      "\n",
      "I0307 15:48:16.457445 4548054528 modeling_utils.py:461] loading weights file https://s3.amazonaws.com/models.huggingface.co/bert/distilbert-base-uncased-pytorch_model.bin from cache at /Users/Bart/.cache/torch/transformers/7b8a8f0b21c4e7f6962451c9370a5d9af90372a5f64637a251f2de154d0fc72c.c2015533705b9dff680ae707e205a35e2860e8d148b45d35085419d74fe57ac5\n",
      "I0307 15:48:18.616954 4548054528 modeling_utils.py:546] Weights of DistilBertForSequenceClassification not initialized from pretrained model: ['pre_classifier.weight', 'pre_classifier.bias', 'classifier.weight', 'classifier.bias']\n",
      "I0307 15:48:18.617807 4548054528 modeling_utils.py:552] Weights from pretrained model not used in DistilBertForSequenceClassification: ['vocab_transform.weight', 'vocab_transform.bias', 'vocab_layer_norm.weight', 'vocab_layer_norm.bias', 'vocab_projector.weight', 'vocab_projector.bias']\n",
      "I0307 15:48:19.714282 4548054528 tokenization_utils.py:501] loading file https://s3.amazonaws.com/models.huggingface.co/bert/bert-base-uncased-vocab.txt from cache at /Users/Bart/.cache/torch/transformers/26bc1ad6c0ac742e9b52263248f6d0f00068293b33709fae12320c0e35ccfbbb.542ce4285a40d23a559526243235df47c5f75c197f04f37d1a0c124c32c9a084\n"
     ]
    }
   ],
   "source": [
    "model = DistilBertForSequenceClassification.from_pretrained('distilbert-base-uncased',num_labels=1)\n",
    "tokenizer = DistilBertTokenizer.from_pretrained('distilbert-base-uncased')\n"
   ]
  },
  {
   "cell_type": "code",
   "execution_count": 20,
   "metadata": {},
   "outputs": [
    {
     "ename": "RuntimeError",
     "evalue": "version_ <= kMaxSupportedFileFormatVersion INTERNAL ASSERT FAILED at ../caffe2/serialize/inline_container.cc:132, please report a bug to PyTorch. Attempted to read a PyTorch file with version 3, but the maximum supported version for reading is 2. Your PyTorch installation may be too old. (init at ../caffe2/serialize/inline_container.cc:132)\nframe #0: c10::Error::Error(c10::SourceLocation, std::__1::basic_string<char, std::__1::char_traits<char>, std::__1::allocator<char> > const&) + 135 (0x10df32787 in libc10.dylib)\nframe #1: caffe2::serialize::PyTorchStreamReader::init() + 2350 (0x11565714e in libtorch.dylib)\nframe #2: caffe2::serialize::PyTorchStreamReader::PyTorchStreamReader(std::__1::basic_string<char, std::__1::char_traits<char>, std::__1::allocator<char> > const&) + 143 (0x11565679f in libtorch.dylib)\nframe #3: void pybind11::cpp_function::initialize<void pybind11::detail::initimpl::constructor<std::__1::basic_string<char, std::__1::char_traits<char>, std::__1::allocator<char> > >::execute<pybind11::class_<caffe2::serialize::PyTorchStreamReader>, 0>(pybind11::class_<caffe2::serialize::PyTorchStreamReader>&)::'lambda'(pybind11::detail::value_and_holder&, std::__1::basic_string<char, std::__1::char_traits<char>, std::__1::allocator<char> >), void, pybind11::detail::value_and_holder&, std::__1::basic_string<char, std::__1::char_traits<char>, std::__1::allocator<char> >, pybind11::name, pybind11::is_method, pybind11::sibling, pybind11::detail::is_new_style_constructor>(pybind11::class_<caffe2::serialize::PyTorchStreamReader>&&,  (*)(0...), void pybind11::detail::initimpl::constructor<std::__1::basic_string<char, std::__1::char_traits<char>, std::__1::allocator<char> > >::execute<pybind11::class_<caffe2::serialize::PyTorchStreamReader>, 0>(pybind11::class_<caffe2::serialize::PyTorchStreamReader>&)::'lambda'(pybind11::detail::value_and_holder&, std::__1::basic_string<char, std::__1::char_traits<char>, std::__1::allocator<char> >) const&...)::'lambda'(pybind11::detail::function_call&)::operator()(pybind11::detail::function_call&) const + 147 (0x113634c13 in libtorch_python.dylib)\nframe #4: pybind11::cpp_function::dispatcher(_object*, _object*, _object*) + 3372 (0x11302e9fc in libtorch_python.dylib)\nframe #5: _PyMethodDef_RawFastCallDict + 516 (0x108215aed in Python)\nframe #6: _PyCFunction_FastCallDict + 41 (0x10821511f in Python)\nframe #7: _PyObject_Call_Prepend + 131 (0x1082161a3 in Python)\nframe #8: PyObject_Call + 136 (0x108215569 in Python)\nframe #9: slot_tp_init + 96 (0x108253642 in Python)\nframe #10: type_call + 172 (0x10825035e in Python)\nframe #11: _PyObject_FastCallKeywords + 358 (0x1082152d2 in Python)\nframe #12: call_function + 730 (0x1082aaad2 in Python)\nframe #13: _PyEval_EvalFrameDefault + 6767 (0x1082a3a47 in Python)\nframe #14: _PyEval_EvalCodeWithName + 1698 (0x1082ab2cd in Python)\nframe #15: _PyFunction_FastCallDict + 444 (0x10821509c in Python)\nframe #16: _PyObject_Call_Prepend + 131 (0x1082161a3 in Python)\nframe #17: slot_tp_init + 80 (0x108253632 in Python)\nframe #18: type_call + 172 (0x10825035e in Python)\nframe #19: _PyObject_FastCallKeywords + 358 (0x1082152d2 in Python)\nframe #20: call_function + 730 (0x1082aaad2 in Python)\nframe #21: _PyEval_EvalFrameDefault + 6922 (0x1082a3ae2 in Python)\nframe #22: _PyEval_EvalCodeWithName + 1698 (0x1082ab2cd in Python)\nframe #23: _PyFunction_FastCallKeywords + 212 (0x108215424 in Python)\nframe #24: call_function + 737 (0x1082aaad9 in Python)\nframe #25: _PyEval_EvalFrameDefault + 7090 (0x1082a3b8a in Python)\nframe #26: _PyEval_EvalCodeWithName + 1698 (0x1082ab2cd in Python)\nframe #27: PyEval_EvalCode + 51 (0x1082a1f35 in Python)\nframe #28: builtin_exec + 563 (0x10829f9bf in Python)\nframe #29: _PyMethodDef_RawFastCallKeywords + 488 (0x108215ed0 in Python)\nframe #30: _PyCFunction_FastCallKeywords + 41 (0x10821545c in Python)\nframe #31: call_function + 628 (0x1082aaa6c in Python)\nframe #32: _PyEval_EvalFrameDefault + 6922 (0x1082a3ae2 in Python)\nframe #33: gen_send_ex + 244 (0x108220e83 in Python)\nframe #34: _PyEval_EvalFrameDefault + 17461 (0x1082a640d in Python)\nframe #35: gen_send_ex + 244 (0x108220e83 in Python)\nframe #36: _PyEval_EvalFrameDefault + 17461 (0x1082a640d in Python)\nframe #37: gen_send_ex + 244 (0x108220e83 in Python)\nframe #38: _PyMethodDef_RawFastCallKeywords + 583 (0x108215f2f in Python)\nframe #39: _PyMethodDescr_FastCallKeywords + 81 (0x10821a701 in Python)\nframe #40: call_function + 782 (0x1082aab06 in Python)\nframe #41: _PyEval_EvalFrameDefault + 6742 (0x1082a3a2e in Python)\nframe #42: function_code_fastcall + 106 (0x108215830 in Python)\nframe #43: call_function + 737 (0x1082aaad9 in Python)\nframe #44: _PyEval_EvalFrameDefault + 6922 (0x1082a3ae2 in Python)\nframe #45: function_code_fastcall + 106 (0x108215830 in Python)\nframe #46: call_function + 737 (0x1082aaad9 in Python)\nframe #47: _PyEval_EvalFrameDefault + 6742 (0x1082a3a2e in Python)\nframe #48: _PyEval_EvalCodeWithName + 1698 (0x1082ab2cd in Python)\nframe #49: _PyFunction_FastCallDict + 444 (0x10821509c in Python)\nframe #50: _PyObject_Call_Prepend + 131 (0x1082161a3 in Python)\nframe #51: PyObject_Call + 136 (0x108215569 in Python)\nframe #52: _PyEval_EvalFrameDefault + 7507 (0x1082a3d2b in Python)\nframe #53: _PyEval_EvalCodeWithName + 1698 (0x1082ab2cd in Python)\nframe #54: _PyFunction_FastCallKeywords + 212 (0x108215424 in Python)\nframe #55: call_function + 737 (0x1082aaad9 in Python)\nframe #56: _PyEval_EvalFrameDefault + 7090 (0x1082a3b8a in Python)\nframe #57: gen_send_ex + 244 (0x108220e83 in Python)\nframe #58: builtin_next + 99 (0x1082a04b6 in Python)\nframe #59: _PyMethodDef_RawFastCallKeywords + 488 (0x108215ed0 in Python)\nframe #60: _PyCFunction_FastCallKeywords + 41 (0x10821545c in Python)\nframe #61: call_function + 628 (0x1082aaa6c in Python)\nframe #62: _PyEval_EvalFrameDefault + 6922 (0x1082a3ae2 in Python)\nframe #63: _PyEval_EvalCodeWithName + 1698 (0x1082ab2cd in Python)\n",
     "output_type": "error",
     "traceback": [
      "\u001b[0;31m---------------------------------------------------------------------------\u001b[0m",
      "\u001b[0;31mRuntimeError\u001b[0m                              Traceback (most recent call last)",
      "\u001b[0;32m<ipython-input-20-40bc4a23d169>\u001b[0m in \u001b[0;36m<module>\u001b[0;34m\u001b[0m\n\u001b[1;32m      1\u001b[0m \u001b[0;31m# Load saved best BERT model\u001b[0m\u001b[0;34m\u001b[0m\u001b[0;34m\u001b[0m\u001b[0;34m\u001b[0m\u001b[0m\n\u001b[1;32m      2\u001b[0m \u001b[0mdevice\u001b[0m \u001b[0;34m=\u001b[0m \u001b[0mtorch\u001b[0m\u001b[0;34m.\u001b[0m\u001b[0mdevice\u001b[0m\u001b[0;34m(\u001b[0m\u001b[0;34m'cpu'\u001b[0m\u001b[0;34m)\u001b[0m\u001b[0;34m\u001b[0m\u001b[0;34m\u001b[0m\u001b[0m\n\u001b[0;32m----> 3\u001b[0;31m \u001b[0mmodel\u001b[0m\u001b[0;34m.\u001b[0m\u001b[0mload_state_dict\u001b[0m\u001b[0;34m(\u001b[0m\u001b[0mtorch\u001b[0m\u001b[0;34m.\u001b[0m\u001b[0mload\u001b[0m\u001b[0;34m(\u001b[0m\u001b[0;34m'DistilBERT_best_model.pt'\u001b[0m\u001b[0;34m,\u001b[0m \u001b[0mmap_location\u001b[0m\u001b[0;34m=\u001b[0m\u001b[0mdevice\u001b[0m\u001b[0;34m,\u001b[0m \u001b[0m_use_new_zipfile_serialization\u001b[0m\u001b[0;34m=\u001b[0m\u001b[0;32mFalse\u001b[0m\u001b[0;34m)\u001b[0m\u001b[0;34m)\u001b[0m\u001b[0;34m\u001b[0m\u001b[0;34m\u001b[0m\u001b[0m\n\u001b[0m\u001b[1;32m      4\u001b[0m \u001b[0mmodel\u001b[0m\u001b[0;34m.\u001b[0m\u001b[0meval\u001b[0m\u001b[0;34m(\u001b[0m\u001b[0;34m)\u001b[0m\u001b[0;34m\u001b[0m\u001b[0;34m\u001b[0m\u001b[0m\n",
      "\u001b[0;32m/usr/local/lib/python3.7/site-packages/torch/serialization.py\u001b[0m in \u001b[0;36mload\u001b[0;34m(f, map_location, pickle_module, **pickle_load_args)\u001b[0m\n\u001b[1;32m    525\u001b[0m     \u001b[0mUser\u001b[0m \u001b[0mextensions\u001b[0m \u001b[0mcan\u001b[0m \u001b[0mregister\u001b[0m \u001b[0mtheir\u001b[0m \u001b[0mown\u001b[0m \u001b[0mlocation\u001b[0m \u001b[0mtags\u001b[0m \u001b[0;32mand\u001b[0m \u001b[0mtagging\u001b[0m \u001b[0;32mand\u001b[0m\u001b[0;34m\u001b[0m\u001b[0;34m\u001b[0m\u001b[0m\n\u001b[1;32m    526\u001b[0m     \u001b[0mdeserialization\u001b[0m \u001b[0mmethods\u001b[0m \u001b[0musing\u001b[0m \u001b[0;34m:\u001b[0m\u001b[0mfunc\u001b[0m\u001b[0;34m:\u001b[0m\u001b[0;31m`\u001b[0m\u001b[0mtorch\u001b[0m\u001b[0;34m.\u001b[0m\u001b[0mserialization\u001b[0m\u001b[0;34m.\u001b[0m\u001b[0mregister_package\u001b[0m\u001b[0;31m`\u001b[0m\u001b[0;34m.\u001b[0m\u001b[0;34m\u001b[0m\u001b[0;34m\u001b[0m\u001b[0m\n\u001b[0;32m--> 527\u001b[0;31m \u001b[0;34m\u001b[0m\u001b[0m\n\u001b[0m\u001b[1;32m    528\u001b[0m     \u001b[0mArgs\u001b[0m\u001b[0;34m:\u001b[0m\u001b[0;34m\u001b[0m\u001b[0;34m\u001b[0m\u001b[0m\n\u001b[1;32m    529\u001b[0m         \u001b[0mf\u001b[0m\u001b[0;34m:\u001b[0m \u001b[0ma\u001b[0m \u001b[0mfile\u001b[0m\u001b[0;34m-\u001b[0m\u001b[0mlike\u001b[0m \u001b[0mobject\u001b[0m \u001b[0;34m(\u001b[0m\u001b[0mhas\u001b[0m \u001b[0mto\u001b[0m \u001b[0mimplement\u001b[0m \u001b[0;34m:\u001b[0m\u001b[0mmeth\u001b[0m\u001b[0;34m:\u001b[0m\u001b[0;31m`\u001b[0m\u001b[0mread\u001b[0m\u001b[0;31m`\u001b[0m\u001b[0;34m,\u001b[0m \u001b[0;34m:\u001b[0m\u001b[0mmeth\u001b[0m\u001b[0;31m`\u001b[0m\u001b[0mreadline\u001b[0m\u001b[0;31m`\u001b[0m\u001b[0;34m,\u001b[0m \u001b[0;34m:\u001b[0m\u001b[0mmeth\u001b[0m\u001b[0;31m`\u001b[0m\u001b[0mtell\u001b[0m\u001b[0;31m`\u001b[0m\u001b[0;34m,\u001b[0m \u001b[0;32mand\u001b[0m \u001b[0;34m:\u001b[0m\u001b[0mmeth\u001b[0m\u001b[0;31m`\u001b[0m\u001b[0mseek\u001b[0m\u001b[0;31m`\u001b[0m\u001b[0;34m)\u001b[0m\u001b[0;34m,\u001b[0m\u001b[0;34m\u001b[0m\u001b[0;34m\u001b[0m\u001b[0m\n",
      "\u001b[0;32m/usr/local/lib/python3.7/site-packages/torch/serialization.py\u001b[0m in \u001b[0;36m__init__\u001b[0;34m(self, name_or_buffer)\u001b[0m\n\u001b[1;32m    222\u001b[0m \u001b[0;34m\u001b[0m\u001b[0m\n\u001b[1;32m    223\u001b[0m \u001b[0;32mclass\u001b[0m \u001b[0m_open_buffer_writer\u001b[0m\u001b[0;34m(\u001b[0m\u001b[0m_opener\u001b[0m\u001b[0;34m)\u001b[0m\u001b[0;34m:\u001b[0m\u001b[0;34m\u001b[0m\u001b[0;34m\u001b[0m\u001b[0m\n\u001b[0;32m--> 224\u001b[0;31m     \u001b[0;32mdef\u001b[0m \u001b[0m__exit__\u001b[0m\u001b[0;34m(\u001b[0m\u001b[0mself\u001b[0m\u001b[0;34m,\u001b[0m \u001b[0;34m*\u001b[0m\u001b[0margs\u001b[0m\u001b[0;34m)\u001b[0m\u001b[0;34m:\u001b[0m\u001b[0;34m\u001b[0m\u001b[0;34m\u001b[0m\u001b[0m\n\u001b[0m\u001b[1;32m    225\u001b[0m         \u001b[0mself\u001b[0m\u001b[0;34m.\u001b[0m\u001b[0mfile_like\u001b[0m\u001b[0;34m.\u001b[0m\u001b[0mflush\u001b[0m\u001b[0;34m(\u001b[0m\u001b[0;34m)\u001b[0m\u001b[0;34m\u001b[0m\u001b[0;34m\u001b[0m\u001b[0m\n\u001b[1;32m    226\u001b[0m \u001b[0;34m\u001b[0m\u001b[0m\n",
      "\u001b[0;31mRuntimeError\u001b[0m: version_ <= kMaxSupportedFileFormatVersion INTERNAL ASSERT FAILED at ../caffe2/serialize/inline_container.cc:132, please report a bug to PyTorch. Attempted to read a PyTorch file with version 3, but the maximum supported version for reading is 2. Your PyTorch installation may be too old. (init at ../caffe2/serialize/inline_container.cc:132)\nframe #0: c10::Error::Error(c10::SourceLocation, std::__1::basic_string<char, std::__1::char_traits<char>, std::__1::allocator<char> > const&) + 135 (0x10df32787 in libc10.dylib)\nframe #1: caffe2::serialize::PyTorchStreamReader::init() + 2350 (0x11565714e in libtorch.dylib)\nframe #2: caffe2::serialize::PyTorchStreamReader::PyTorchStreamReader(std::__1::basic_string<char, std::__1::char_traits<char>, std::__1::allocator<char> > const&) + 143 (0x11565679f in libtorch.dylib)\nframe #3: void pybind11::cpp_function::initialize<void pybind11::detail::initimpl::constructor<std::__1::basic_string<char, std::__1::char_traits<char>, std::__1::allocator<char> > >::execute<pybind11::class_<caffe2::serialize::PyTorchStreamReader>, 0>(pybind11::class_<caffe2::serialize::PyTorchStreamReader>&)::'lambda'(pybind11::detail::value_and_holder&, std::__1::basic_string<char, std::__1::char_traits<char>, std::__1::allocator<char> >), void, pybind11::detail::value_and_holder&, std::__1::basic_string<char, std::__1::char_traits<char>, std::__1::allocator<char> >, pybind11::name, pybind11::is_method, pybind11::sibling, pybind11::detail::is_new_style_constructor>(pybind11::class_<caffe2::serialize::PyTorchStreamReader>&&,  (*)(0...), void pybind11::detail::initimpl::constructor<std::__1::basic_string<char, std::__1::char_traits<char>, std::__1::allocator<char> > >::execute<pybind11::class_<caffe2::serialize::PyTorchStreamReader>, 0>(pybind11::class_<caffe2::serialize::PyTorchStreamReader>&)::'lambda'(pybind11::detail::value_and_holder&, std::__1::basic_string<char, std::__1::char_traits<char>, std::__1::allocator<char> >) const&...)::'lambda'(pybind11::detail::function_call&)::operator()(pybind11::detail::function_call&) const + 147 (0x113634c13 in libtorch_python.dylib)\nframe #4: pybind11::cpp_function::dispatcher(_object*, _object*, _object*) + 3372 (0x11302e9fc in libtorch_python.dylib)\nframe #5: _PyMethodDef_RawFastCallDict + 516 (0x108215aed in Python)\nframe #6: _PyCFunction_FastCallDict + 41 (0x10821511f in Python)\nframe #7: _PyObject_Call_Prepend + 131 (0x1082161a3 in Python)\nframe #8: PyObject_Call + 136 (0x108215569 in Python)\nframe #9: slot_tp_init + 96 (0x108253642 in Python)\nframe #10: type_call + 172 (0x10825035e in Python)\nframe #11: _PyObject_FastCallKeywords + 358 (0x1082152d2 in Python)\nframe #12: call_function + 730 (0x1082aaad2 in Python)\nframe #13: _PyEval_EvalFrameDefault + 6767 (0x1082a3a47 in Python)\nframe #14: _PyEval_EvalCodeWithName + 1698 (0x1082ab2cd in Python)\nframe #15: _PyFunction_FastCallDict + 444 (0x10821509c in Python)\nframe #16: _PyObject_Call_Prepend + 131 (0x1082161a3 in Python)\nframe #17: slot_tp_init + 80 (0x108253632 in Python)\nframe #18: type_call + 172 (0x10825035e in Python)\nframe #19: _PyObject_FastCallKeywords + 358 (0x1082152d2 in Python)\nframe #20: call_function + 730 (0x1082aaad2 in Python)\nframe #21: _PyEval_EvalFrameDefault + 6922 (0x1082a3ae2 in Python)\nframe #22: _PyEval_EvalCodeWithName + 1698 (0x1082ab2cd in Python)\nframe #23: _PyFunction_FastCallKeywords + 212 (0x108215424 in Python)\nframe #24: call_function + 737 (0x1082aaad9 in Python)\nframe #25: _PyEval_EvalFrameDefault + 7090 (0x1082a3b8a in Python)\nframe #26: _PyEval_EvalCodeWithName + 1698 (0x1082ab2cd in Python)\nframe #27: PyEval_EvalCode + 51 (0x1082a1f35 in Python)\nframe #28: builtin_exec + 563 (0x10829f9bf in Python)\nframe #29: _PyMethodDef_RawFastCallKeywords + 488 (0x108215ed0 in Python)\nframe #30: _PyCFunction_FastCallKeywords + 41 (0x10821545c in Python)\nframe #31: call_function + 628 (0x1082aaa6c in Python)\nframe #32: _PyEval_EvalFrameDefault + 6922 (0x1082a3ae2 in Python)\nframe #33: gen_send_ex + 244 (0x108220e83 in Python)\nframe #34: _PyEval_EvalFrameDefault + 17461 (0x1082a640d in Python)\nframe #35: gen_send_ex + 244 (0x108220e83 in Python)\nframe #36: _PyEval_EvalFrameDefault + 17461 (0x1082a640d in Python)\nframe #37: gen_send_ex + 244 (0x108220e83 in Python)\nframe #38: _PyMethodDef_RawFastCallKeywords + 583 (0x108215f2f in Python)\nframe #39: _PyMethodDescr_FastCallKeywords + 81 (0x10821a701 in Python)\nframe #40: call_function + 782 (0x1082aab06 in Python)\nframe #41: _PyEval_EvalFrameDefault + 6742 (0x1082a3a2e in Python)\nframe #42: function_code_fastcall + 106 (0x108215830 in Python)\nframe #43: call_function + 737 (0x1082aaad9 in Python)\nframe #44: _PyEval_EvalFrameDefault + 6922 (0x1082a3ae2 in Python)\nframe #45: function_code_fastcall + 106 (0x108215830 in Python)\nframe #46: call_function + 737 (0x1082aaad9 in Python)\nframe #47: _PyEval_EvalFrameDefault + 6742 (0x1082a3a2e in Python)\nframe #48: _PyEval_EvalCodeWithName + 1698 (0x1082ab2cd in Python)\nframe #49: _PyFunction_FastCallDict + 444 (0x10821509c in Python)\nframe #50: _PyObject_Call_Prepend + 131 (0x1082161a3 in Python)\nframe #51: PyObject_Call + 136 (0x108215569 in Python)\nframe #52: _PyEval_EvalFrameDefault + 7507 (0x1082a3d2b in Python)\nframe #53: _PyEval_EvalCodeWithName + 1698 (0x1082ab2cd in Python)\nframe #54: _PyFunction_FastCallKeywords + 212 (0x108215424 in Python)\nframe #55: call_function + 737 (0x1082aaad9 in Python)\nframe #56: _PyEval_EvalFrameDefault + 7090 (0x1082a3b8a in Python)\nframe #57: gen_send_ex + 244 (0x108220e83 in Python)\nframe #58: builtin_next + 99 (0x1082a04b6 in Python)\nframe #59: _PyMethodDef_RawFastCallKeywords + 488 (0x108215ed0 in Python)\nframe #60: _PyCFunction_FastCallKeywords + 41 (0x10821545c in Python)\nframe #61: call_function + 628 (0x1082aaa6c in Python)\nframe #62: _PyEval_EvalFrameDefault + 6922 (0x1082a3ae2 in Python)\nframe #63: _PyEval_EvalCodeWithName + 1698 (0x1082ab2cd in Python)\n"
     ]
    }
   ],
   "source": [
    "# Load saved best BERT model\n",
    "device = torch.device('cpu')\n",
    "model.load_state_dict(torch.load('DistilBERT_best_model.pt', map_location=device, _use_new_zipfile_serialization=False))\n",
    "model.eval()"
   ]
  },
  {
   "cell_type": "code",
   "execution_count": 1,
   "metadata": {},
   "outputs": [],
   "source": []
  },
  {
   "cell_type": "code",
   "execution_count": 4,
   "metadata": {},
   "outputs": [],
   "source": [
    "tokenized_utterances = train_df.text.apply(lambda x: tokenizer.encode(x,add_special_tokens=True))\n",
    "tokenized_utterances_test = test_df.text.apply(lambda x: tokenizer.encode(x,add_special_tokens=True))"
   ]
  },
  {
   "cell_type": "code",
   "execution_count": 5,
   "metadata": {},
   "outputs": [],
   "source": [
    "# pad sentences for training set\n",
    "max_len = max(map(len,tokenized_utterances))\n",
    "padded_utterances = np.array([ i+[0]*(max_len-len(i))  for i in tokenized_utterances])\n",
    "attention_masked_utterances = np.where(padded_utterances != 0,1,0)"
   ]
  },
  {
   "cell_type": "code",
   "execution_count": 6,
   "metadata": {},
   "outputs": [],
   "source": [
    "# pad sentences for test set\n",
    "padded_utterances_test = np.array([ i+[0]*(max_len-len(i))  for i in tokenized_utterances_test])\n",
    "attention_masked_utterances_test = np.where(padded_utterances_test != 0,1,0)"
   ]
  },
  {
   "cell_type": "code",
   "execution_count": 7,
   "metadata": {},
   "outputs": [],
   "source": [
    "# Create tensors\n",
    "\n",
    "X_train = torch.tensor(padded_utterances)\n",
    "X_train_attention = torch.tensor(attention_masked_utterances)\n",
    "y_train = torch.tensor(np.array(train_df.sentiment_score.values)[:,np.newaxis], dtype=torch.float32)\n",
    "\n",
    "X_test = torch.tensor(padded_utterances_test)\n",
    "X_test_attention = torch.tensor(attention_masked_utterances_test)\n",
    "y_test = torch.tensor(np.array(test_df.sentiment_score.values)[:,np.newaxis], dtype=torch.float32)\n",
    "\n",
    "\n",
    "train_data = TensorDataset(X_train, X_train_attention, y_train)\n",
    "train_loader = DataLoader(train_data,batch_size=16, shuffle=True)\n",
    "\n",
    "test_dataset = TensorDataset(X_test, X_test_attention)\n",
    "test_loader = DataLoader(test_dataset, batch_size=16, shuffle=False)\n"
   ]
  },
  {
   "cell_type": "code",
   "execution_count": 8,
   "metadata": {},
   "outputs": [
    {
     "name": "stdout",
     "output_type": "stream",
     "text": [
      "tensor(0.6954, grad_fn=<BinaryCrossEntropyWithLogitsBackward>)\n"
     ]
    },
    {
     "ename": "KeyboardInterrupt",
     "evalue": "",
     "output_type": "error",
     "traceback": [
      "\u001b[0;31m---------------------------------------------------------------------------\u001b[0m",
      "\u001b[0;31mKeyboardInterrupt\u001b[0m                         Traceback (most recent call last)",
      "\u001b[0;32m<ipython-input-8-477936b699bf>\u001b[0m in \u001b[0;36m<module>\u001b[0;34m\u001b[0m\n\u001b[1;32m     12\u001b[0m         \u001b[0mloss\u001b[0m \u001b[0;34m=\u001b[0m \u001b[0mloss_fn\u001b[0m\u001b[0;34m(\u001b[0m\u001b[0my_pred\u001b[0m\u001b[0;34m,\u001b[0m\u001b[0my_batch\u001b[0m\u001b[0;34m)\u001b[0m\u001b[0;34m\u001b[0m\u001b[0;34m\u001b[0m\u001b[0m\n\u001b[1;32m     13\u001b[0m         \u001b[0mprint\u001b[0m\u001b[0;34m(\u001b[0m\u001b[0mloss\u001b[0m\u001b[0;34m)\u001b[0m\u001b[0;34m\u001b[0m\u001b[0;34m\u001b[0m\u001b[0m\n\u001b[0;32m---> 14\u001b[0;31m         \u001b[0mloss\u001b[0m\u001b[0;34m.\u001b[0m\u001b[0mbackward\u001b[0m\u001b[0;34m(\u001b[0m\u001b[0;34m)\u001b[0m\u001b[0;34m\u001b[0m\u001b[0;34m\u001b[0m\u001b[0m\n\u001b[0m\u001b[1;32m     15\u001b[0m         \u001b[0moptimizer\u001b[0m\u001b[0;34m.\u001b[0m\u001b[0mstep\u001b[0m\u001b[0;34m(\u001b[0m\u001b[0;34m)\u001b[0m\u001b[0;34m\u001b[0m\u001b[0;34m\u001b[0m\u001b[0m\n\u001b[1;32m     16\u001b[0m         \u001b[0moptimizer\u001b[0m\u001b[0;34m.\u001b[0m\u001b[0mzero_grad\u001b[0m\u001b[0;34m(\u001b[0m\u001b[0;34m)\u001b[0m\u001b[0;34m\u001b[0m\u001b[0;34m\u001b[0m\u001b[0m\n",
      "\u001b[0;32m/usr/local/lib/python3.7/site-packages/torch/tensor.py\u001b[0m in \u001b[0;36mbackward\u001b[0;34m(self, gradient, retain_graph, create_graph)\u001b[0m\n\u001b[1;32m    193\u001b[0m                 \u001b[0mproducts\u001b[0m\u001b[0;34m.\u001b[0m \u001b[0mDefaults\u001b[0m \u001b[0mto\u001b[0m\u001b[0;31m \u001b[0m\u001b[0;31m`\u001b[0m\u001b[0;31m`\u001b[0m\u001b[0;32mFalse\u001b[0m\u001b[0;31m`\u001b[0m\u001b[0;31m`\u001b[0m\u001b[0;34m.\u001b[0m\u001b[0;34m\u001b[0m\u001b[0;34m\u001b[0m\u001b[0m\n\u001b[1;32m    194\u001b[0m         \"\"\"\n\u001b[0;32m--> 195\u001b[0;31m         \u001b[0mtorch\u001b[0m\u001b[0;34m.\u001b[0m\u001b[0mautograd\u001b[0m\u001b[0;34m.\u001b[0m\u001b[0mbackward\u001b[0m\u001b[0;34m(\u001b[0m\u001b[0mself\u001b[0m\u001b[0;34m,\u001b[0m \u001b[0mgradient\u001b[0m\u001b[0;34m,\u001b[0m \u001b[0mretain_graph\u001b[0m\u001b[0;34m,\u001b[0m \u001b[0mcreate_graph\u001b[0m\u001b[0;34m)\u001b[0m\u001b[0;34m\u001b[0m\u001b[0;34m\u001b[0m\u001b[0m\n\u001b[0m\u001b[1;32m    196\u001b[0m \u001b[0;34m\u001b[0m\u001b[0m\n\u001b[1;32m    197\u001b[0m     \u001b[0;32mdef\u001b[0m \u001b[0mregister_hook\u001b[0m\u001b[0;34m(\u001b[0m\u001b[0mself\u001b[0m\u001b[0;34m,\u001b[0m \u001b[0mhook\u001b[0m\u001b[0;34m)\u001b[0m\u001b[0;34m:\u001b[0m\u001b[0;34m\u001b[0m\u001b[0;34m\u001b[0m\u001b[0m\n",
      "\u001b[0;32m/usr/local/lib/python3.7/site-packages/torch/autograd/__init__.py\u001b[0m in \u001b[0;36mbackward\u001b[0;34m(tensors, grad_tensors, retain_graph, create_graph, grad_variables)\u001b[0m\n\u001b[1;32m     97\u001b[0m     Variable._execution_engine.run_backward(\n\u001b[1;32m     98\u001b[0m         \u001b[0mtensors\u001b[0m\u001b[0;34m,\u001b[0m \u001b[0mgrad_tensors\u001b[0m\u001b[0;34m,\u001b[0m \u001b[0mretain_graph\u001b[0m\u001b[0;34m,\u001b[0m \u001b[0mcreate_graph\u001b[0m\u001b[0;34m,\u001b[0m\u001b[0;34m\u001b[0m\u001b[0;34m\u001b[0m\u001b[0m\n\u001b[0;32m---> 99\u001b[0;31m         allow_unreachable=True)  # allow_unreachable flag\n\u001b[0m\u001b[1;32m    100\u001b[0m \u001b[0;34m\u001b[0m\u001b[0m\n\u001b[1;32m    101\u001b[0m \u001b[0;34m\u001b[0m\u001b[0m\n",
      "\u001b[0;31mKeyboardInterrupt\u001b[0m: "
     ]
    }
   ],
   "source": [
    "# Train model\n",
    "\n",
    "NUM_EPOCHS = 1\n",
    "LEARNING_RATE = 0.01\n",
    "optimizer =torch.optim.SGD(model.parameters(), lr=LEARNING_RATE)\n",
    "loss_fn = torch.nn.BCEWithLogitsLoss()\n",
    "for i in range(NUM_EPOCHS):\n",
    "    model.train()\n",
    "    for X_batch,X_attention_batch,y_batch in train_loader:\n",
    "        output = model(X_batch,attention_mask=X_attention_batch,labels=None)\n",
    "        y_pred = output[0]\n",
    "        loss = loss_fn(y_pred,y_batch)\n",
    "        print(loss)\n",
    "        loss.backward()\n",
    "        optimizer.step()\n",
    "        optimizer.zero_grad()"
   ]
  },
  {
   "cell_type": "code",
   "execution_count": null,
   "metadata": {},
   "outputs": [],
   "source": []
  }
 ],
 "metadata": {
  "kernelspec": {
   "display_name": "Python 3",
   "language": "python",
   "name": "python3"
  },
  "language_info": {
   "codemirror_mode": {
    "name": "ipython",
    "version": 3
   },
   "file_extension": ".py",
   "mimetype": "text/x-python",
   "name": "python",
   "nbconvert_exporter": "python",
   "pygments_lexer": "ipython3",
   "version": "3.7.7"
  }
 },
 "nbformat": 4,
 "nbformat_minor": 2
}
