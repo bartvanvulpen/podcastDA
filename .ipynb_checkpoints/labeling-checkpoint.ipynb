{
 "cells": [
  {
   "cell_type": "code",
   "execution_count": null,
   "metadata": {},
   "outputs": [],
   "source": [
    "import pandas as pd\n",
    "from os import listdir\n",
    "import os"
   ]
  },
  {
   "cell_type": "code",
   "execution_count": null,
   "metadata": {},
   "outputs": [],
   "source": [
    "# Belangrijk: de gelabelde data wordt per ingeladen csv file opgeslagen, dus \n",
    "# je kan na het labelen van een csv bestand een pauze nemen.\n",
    "\n",
    "# Ook belangrijk: pas op dat je niet te veel dingen als neutral labelt,\n",
    "# iets is alleen neutral als er echt geen enkele vorm van sentiment (bijvoegelijke naamwoorden, instemming) \n",
    "# in de tekst zit\n",
    "\n",
    "\n",
    "# fill in your name\n",
    "name = input('Name (in lower case): ')\n",
    "print()\n",
    "csv_files = listdir('labeled_data/{}'.format(name))\n",
    "\n",
    "paths = []\n",
    "for filename in sorted(csv_files):\n",
    "    paths.append('labeled_data/{}/{}'.format(name, filename))\n",
    "\n",
    "if 'labeled_data/bart/.DS_Store' in paths:\n",
    "    paths.remove('labeled_data/bart/.DS_Store')\n",
    "# start labeling data\n",
    "for filepath in paths:\n",
    "    \n",
    "    df = pd.read_csv(filepath, sep='\\t', )\n",
    "    \n",
    "    # skip if file already labeled\n",
    "    if not df.sentiment_score.isnull().all():\n",
    "        print('{} already labeled!'.format(filepath))\n",
    "        print()\n",
    "        continue\n",
    "        \n",
    "    # start labeling file\n",
    "    else:\n",
    "        print(filepath)\n",
    "        print()\n",
    "        for index, row in df.iterrows():\n",
    "            print('Progress: {}/{}'.format(index, len(df)))\n",
    "            print()\n",
    "            print('Speaker',row['speaker_tag'], '\\n', row['text'])\n",
    "            print()\n",
    "            print('-1 = negative; 0 = neutral, 1 = positive')\n",
    "            sentiment_score = int(input('Sentiment score: '))\n",
    "            \n",
    "            if sentiment_score != -1 and sentiment_score != 0 and sentiment_score != 1:\n",
    "                print('Score must be -1, 0 or 1')\n",
    "                sentiment_score = input('Sentiment score: ')\n",
    "                \n",
    "            print('---------------------------------------------\\n')\n",
    "            print()\n",
    "                \n",
    "            \n",
    "            df.at[index, 'sentiment_score'] = sentiment_score\n",
    "            \n",
    "        # to csv\n",
    "        df.to_csv(filepath, sep='\\t', encoding='utf-8', index=False)\n",
    "        print('Saved file!')\n",
    "        print('---------------------------------------------\\n')\n",
    "        print()\n",
    "\n",
    "\n"
   ]
  },
  {
   "cell_type": "code",
   "execution_count": null,
   "metadata": {},
   "outputs": [],
   "source": []
  },
  {
   "cell_type": "code",
   "execution_count": null,
   "metadata": {},
   "outputs": [],
   "source": []
  }
 ],
 "metadata": {
  "kernelspec": {
   "display_name": "Python 3",
   "language": "python",
   "name": "python3"
  },
  "language_info": {
   "codemirror_mode": {
    "name": "ipython",
    "version": 3
   },
   "file_extension": ".py",
   "mimetype": "text/x-python",
   "name": "python",
   "nbconvert_exporter": "python",
   "pygments_lexer": "ipython3",
   "version": "3.7.7"
  }
 },
 "nbformat": 4,
 "nbformat_minor": 2
}
