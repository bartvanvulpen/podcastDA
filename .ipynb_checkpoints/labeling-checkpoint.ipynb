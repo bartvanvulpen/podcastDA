{
 "cells": [
  {
   "cell_type": "code",
   "execution_count": null,
   "metadata": {},
   "outputs": [],
   "source": [
    "import pandas as pd\n",
    "from os import listdir\n",
    "import os"
   ]
  },
  {
   "cell_type": "code",
   "execution_count": null,
   "metadata": {},
   "outputs": [
    {
     "name": "stdout",
     "output_type": "stream",
     "text": [
      "Name (in lower case): bart\n",
      "\n",
      "labeled_data/bart/dialogue_0.csv\n",
      "\n",
      "Progress: 0/45\n",
      "\n",
      "Speaker 2 \n",
      " Welcome back to the Lash base podcast today. We have a very different episode. It is our first interview. We have a very special guest is episode 19 and we are here with Sarah Fisher of Farnum eyelashes. Let's get started. So here we are then before I pass you over to Tara who are interviewing. I'm sat here as well with lash base Amy. We're going to be asking the questions. Hi. So we wanted to do interviews and speak to people that have been there done that and been in the industry for a long time. This is because I know you can listen to us talk and talk and give you all the Our advice but we thought we'd get someone that has even more experience and Give their views and their advice on how they feel the industry is what they like what they don't like and where it can improve as well. So that's where we wanted to go with this podcast. We're going to be doing more interviews as we move forward. However, we wanted to get someone very special very close to lash base believe it or not. I think she'll tell you in a minute, but I think she has been going for even longer. She's been in the industry for longer than lash basis even been around and we've been around for 10 years now, so Anyways, without further Ado our partial over so tarah tell us a little bit about yourself.\n",
      "\n",
      "-1 = negative; 0 = neutral, 1 = positive\n",
      "Sentiment score: 0\n",
      "---------------------------------------------\n",
      "\n",
      "\n",
      "Progress: 1/45\n",
      "\n",
      "Speaker 1 \n",
      " Hi, I'm Tara Tara Fisher from Farnum eyelashes and based in South Farnham on the submarine Hampshire borders. I'm actually just entering into my 11th year of lashing. So I've been around a long time. I just also would like to say thank you to Jamie and to Amy for having me here this afternoon to record this podcast. You're very welcome Tara. I just want to ask you quickly before we get going. And how do you feel today? Because I remember when I first started it was completely nervous. And I'm really quite nervous. This is the first time I've done anything like this and like most people I expect I hate the sound of my own voice.\n",
      "\n",
      "-1 = negative; 0 = neutral, 1 = positive\n",
      "Sentiment score: 1\n",
      "---------------------------------------------\n",
      "\n",
      "\n",
      "Progress: 2/45\n",
      "\n",
      "Speaker 2 \n",
      " You'll be fine. Jamie doesn't though I do as well. I Reggie, I record these podcasts and then I listen to myself back and I yeah, may I make a me listen to the podcast over and over but in all seriousness everybody hates the sound of their own voice and I'm sure you with 11 years experience you are gonna be able to provide so much value to people in this episode. So as you are already aware, we sent you some questions because we wanted you to be able to think about it. We didn't want to put you on the spot apart from the end of this episode when we give you the quick fire questions because I'll be interesting to find out what your thoughts. So what we want to do is be either the podcast is to provide as much value as possible to people that are listening. So I'm sure they'll be lots of people are interested in how on Earth you've managed to get through 11 years, and I'm sure we'll talk about it soon. In that your prices. Wow, and your diary as you know, because your you run it very full. So we're going to start with some questions and we'll get your take on it.\n",
      "\n",
      "-1 = negative; 0 = neutral, 1 = positive\n",
      "Sentiment score: 2\n",
      "Score must be -1, 0 or 1\n"
     ]
    }
   ],
   "source": [
    "# Belangrijk: de gelabelde data wordt per ingeladen csv file opgeslagen, dus \n",
    "# je kan na het labelen van een csv bestand een pauze nemen.\n",
    "\n",
    "# Ook belangrijk: pas op dat je niet te veel dingen als neutral labelt,\n",
    "# iets is alleen neutral als er echt geen enkele vorm van sentiment (bijvoegelijke naamwoorden, instemming) \n",
    "# in de tekst zit\n",
    "\n",
    "\n",
    "# fill in your name\n",
    "name = input('Name (in lower case): ')\n",
    "print()\n",
    "csv_files = listdir('labeled_data/{}'.format(name))\n",
    "\n",
    "paths = []\n",
    "for filename in sorted(csv_files):\n",
    "    paths.append('labeled_data/{}/{}'.format(name, filename))\n",
    "\n",
    "if 'labeled_data/bart/.DS_Store' in paths:\n",
    "    paths.remove('labeled_data/bart/.DS_Store')\n",
    "# start labeling data\n",
    "for filepath in paths:\n",
    "    \n",
    "    df = pd.read_csv(filepath, sep='\\t', )\n",
    "    \n",
    "    # skip if file already labeled\n",
    "    if not df.sentiment_score.isnull().all():\n",
    "        print('{} already labeled!'.format(filepath))\n",
    "        print()\n",
    "        continue\n",
    "        \n",
    "    # start labeling file\n",
    "    else:\n",
    "        print(filepath)\n",
    "        print()\n",
    "        for index, row in df.iterrows():\n",
    "            print('Progress: {}/{}'.format(index, len(df)))\n",
    "            print()\n",
    "            print('Speaker',row['speaker_tag'], '\\n', row['text'])\n",
    "            print()\n",
    "            print('-1 = negative; 0 = neutral, 1 = positive')\n",
    "            sentiment_score = int(input('Sentiment score: '))\n",
    "            \n",
    "            if sentiment_score != -1 and sentiment_score != 0 and sentiment_score != 1:\n",
    "                print('Score must be -1, 0 or 1')\n",
    "                sentiment_score = input('Sentiment score: ')\n",
    "                \n",
    "            print('---------------------------------------------\\n')\n",
    "            print()\n",
    "                \n",
    "            \n",
    "            df.at[index, 'sentiment_score'] = sentiment_score\n",
    "            \n",
    "        # to csv\n",
    "        df.to_csv(filepath, sep='\\t', encoding='utf-8', index=False)\n",
    "        print('Saved file!')\n",
    "        print('---------------------------------------------\\n')\n",
    "        print()\n",
    "\n",
    "\n"
   ]
  },
  {
   "cell_type": "code",
   "execution_count": null,
   "metadata": {},
   "outputs": [],
   "source": []
  },
  {
   "cell_type": "code",
   "execution_count": null,
   "metadata": {},
   "outputs": [],
   "source": []
  }
 ],
 "metadata": {
  "kernelspec": {
   "display_name": "Python 3",
   "language": "python",
   "name": "python3"
  },
  "language_info": {
   "codemirror_mode": {
    "name": "ipython",
    "version": 3
   },
   "file_extension": ".py",
   "mimetype": "text/x-python",
   "name": "python",
   "nbconvert_exporter": "python",
   "pygments_lexer": "ipython3",
   "version": "3.7.7"
  }
 },
 "nbformat": 4,
 "nbformat_minor": 2
}
